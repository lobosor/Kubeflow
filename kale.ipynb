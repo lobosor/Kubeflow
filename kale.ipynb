{
 "cells": [
  {
   "cell_type": "code",
   "execution_count": 3,
   "metadata": {
    "tags": [
     "block:loaddata"
    ]
   },
   "outputs": [
    {
     "name": "stdout",
     "output_type": "stream",
     "text": [
      "a\n",
      "a\n",
      "a\n",
      "a\n",
      "a\n",
      "a\n",
      "a\n"
     ]
    },
    {
     "data": {
      "text/plain": [
       "'data/data (1).csv'"
      ]
     },
     "execution_count": 3,
     "metadata": {},
     "output_type": "execute_result"
    }
   ],
   "source": [
    "print('a')\n",
    "import joblib\n",
    "print('a')\n",
    "import pandas as pd\n",
    "print('a')\n",
    "from sklearn.ensemble import GradientBoostingRegressor\n",
    "print('a')\n",
    "from sklearn.model_selection import train_test_split\n",
    "print('a')\n",
    "import wget\n",
    "print('a')\n",
    "url = 'https://raw.githubusercontent.com/lobosor/CSV/master/kc_house_data.csv'\n",
    "print('a')\n",
    "wget.download(url, 'data/data.csv')"
   ]
  },
  {
   "cell_type": "code",
   "execution_count": 4,
   "metadata": {
    "tags": [
     "block:featureengineering",
     "prev:loaddata"
    ]
   },
   "outputs": [
    {
     "data": {
      "text/plain": [
       "['data/pif.clf']"
      ]
     },
     "execution_count": 4,
     "metadata": {},
     "output_type": "execute_result"
    }
   ],
   "source": [
    "dataset='data/data.csv'\n",
    "trained_model_path = 'data/pif.clf'\n",
    "data = pd.read_csv(dataset)\n",
    "train_data = data.drop(['id', 'price'], axis=1)\n",
    "labels = data['price']\n",
    "x_train, x_test, y_train, y_test = train_test_split(train_data, labels, test_size=0.10, random_state=2)\n",
    "_clf = GradientBoostingRegressor(n_estimators=400, max_depth=5, min_samples_split=2,learning_rate=0.1, loss='ls')\n",
    "_clf.fit(x_train, y_train)\n",
    "\n",
    "joblib.dump(_clf, trained_model_path)\n"
   ]
  },
  {
   "cell_type": "code",
   "execution_count": null,
   "metadata": {},
   "outputs": [],
   "source": []
  }
 ],
 "metadata": {
  "kernelspec": {
   "display_name": "Python 3",
   "language": "python",
   "name": "python3"
  },
  "kubeflow_notebook": {
   "docker_image": "gcr.io/arrikto-public/tensorflow-1.14.0-notebook-cpu:kubecon-workshop",
   "experiment": {
    "id": "0f06549d-38bd-4e91-8a1d-e4f971979e51",
    "name": "Sucess"
   },
   "experiment_name": "Sucess",
   "pipeline_description": "kale, you better work",
   "pipeline_name": "atest",
   "volumes": [
    {
     "annotations": [],
     "mount_point": "/home/jovyan",
     "name": "workspace-testavecv-ozu61miud",
     "size": 10,
     "size_type": "Gi",
     "snapshot": false,
     "type": "clone"
    },
    {
     "annotations": [],
     "mount_point": "/home/jovyan/data",
     "name": "testavecv-vol-1-1ep2cudaj",
     "size": 10,
     "size_type": "Gi",
     "snapshot": false,
     "type": "clone"
    }
   ]
  },
  "language_info": {
   "codemirror_mode": {
    "name": "ipython",
    "version": 3
   },
   "file_extension": ".py",
   "mimetype": "text/x-python",
   "name": "python",
   "nbconvert_exporter": "python",
   "pygments_lexer": "ipython3",
   "version": "3.6.8"
  },
  "nteract": {
   "version": "0.15.0"
  }
 },
 "nbformat": 4,
 "nbformat_minor": 4
}
